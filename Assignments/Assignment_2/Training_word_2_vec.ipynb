{
  "nbformat": 4,
  "nbformat_minor": 0,
  "metadata": {
    "colab": {
      "name": "Training_word_2_vec.ipynb",
      "provenance": []
    },
    "kernelspec": {
      "name": "python3",
      "display_name": "Python 3"
    },
    "accelerator": "GPU"
  },
  "cells": [
    {
      "cell_type": "markdown",
      "metadata": {
        "id": "hBApbaGxW6CO",
        "colab_type": "text"
      },
      "source": [
        "#This python file do the training with word2vec"
      ]
    },
    {
      "cell_type": "code",
      "metadata": {
        "id": "fRZKvPgzYC7B",
        "colab_type": "code",
        "colab": {
          "base_uri": "https://localhost:8080/",
          "height": 34
        },
        "outputId": "e401d480-c124-4fca-feb4-c24d07a9309e"
      },
      "source": [
        "import pandas as pd\n",
        "import numpy as np\n",
        "import pickle\n",
        "from gensim.models import Word2Vec\n",
        "from keras.preprocessing.text import Tokenizer\n",
        "from keras.models import Sequential\n",
        "from keras.layers import Activation, Dense, Dropout\n",
        "from sklearn.preprocessing import LabelBinarizer\n",
        "import sklearn.datasets as skds\n",
        "from pathlib import Path\n",
        "from sklearn.datasets import fetch_20newsgroups\n",
        "from nltk import download \n",
        "from nltk.corpus import stopwords\n",
        "from nltk import word_tokenize"
      ],
      "execution_count": 1,
      "outputs": [
        {
          "output_type": "stream",
          "text": [
            "Using TensorFlow backend.\n"
          ],
          "name": "stderr"
        }
      ]
    },
    {
      "cell_type": "code",
      "metadata": {
        "id": "6qzSJPMzZBJ3",
        "colab_type": "code",
        "colab": {
          "base_uri": "https://localhost:8080/",
          "height": 52
        },
        "outputId": "3897e129-ed8f-422a-b939-e8a39954d552"
      },
      "source": [
        "Data = fetch_20newsgroups(shuffle=True, remove=('headers', 'footers', 'quotes'))\n",
        "data = pd.DataFrame({'filename':Data.filenames , 'category' : Data.target , 'news' : Data.data}) "
      ],
      "execution_count": 2,
      "outputs": [
        {
          "output_type": "stream",
          "text": [
            "Downloading 20news dataset. This may take a few minutes.\n",
            "Downloading dataset from https://ndownloader.figshare.com/files/5975967 (14 MB)\n"
          ],
          "name": "stderr"
        }
      ]
    },
    {
      "cell_type": "code",
      "metadata": {
        "id": "1Y0oWx9kTOWR",
        "colab_type": "code",
        "outputId": "21f6d9d3-059f-41f6-eeaa-1641bdaf337b",
        "colab": {
          "base_uri": "https://localhost:8080/",
          "height": 86
        }
      },
      "source": [
        "download('punkt') #tokenizer, run once\n",
        "download('stopwords') #stopwords dictionary, run once\n",
        "stop_words = stopwords.words('english')\n",
        "\n",
        "def preprocess(text):\n",
        "    text = text.lower()\n",
        "    doc = word_tokenize(text)\n",
        "    doc = [word for word in doc if word not in stop_words]\n",
        "    doc = [word for word in doc if word.isalpha()] #restricts string to alphabetic characters only\n",
        "    return doc"
      ],
      "execution_count": 5,
      "outputs": [
        {
          "output_type": "stream",
          "text": [
            "[nltk_data] Downloading package punkt to /root/nltk_data...\n",
            "[nltk_data]   Package punkt is already up-to-date!\n",
            "[nltk_data] Downloading package stopwords to /root/nltk_data...\n",
            "[nltk_data]   Package stopwords is already up-to-date!\n"
          ],
          "name": "stdout"
        }
      ]
    },
    {
      "cell_type": "code",
      "metadata": {
        "id": "cWHLXVcD0t2n",
        "colab_type": "code",
        "colab": {}
      },
      "source": [
        "corpus = [preprocess(text) for text in data['news']]"
      ],
      "execution_count": 0,
      "outputs": []
    },
    {
      "cell_type": "code",
      "metadata": {
        "id": "4OmZZaFtZdId",
        "colab_type": "code",
        "colab": {}
      },
      "source": [
        "train_size = int(len(data) * .8)\n",
        " \n",
        "train_posts = data['news'][:train_size]\n",
        "train_tags = data['category'][:train_size]\n",
        "train_files_names = data['filename'][:train_size]\n",
        "test_posts = data['news'][train_size:]\n",
        "test_tags = data['category'][train_size:]\n",
        "test_files_names = data['filename'][train_size:]"
      ],
      "execution_count": 0,
      "outputs": []
    },
    {
      "cell_type": "code",
      "metadata": {
        "id": "WquKgdISUb-p",
        "colab_type": "code",
        "colab": {}
      },
      "source": [
        "model_vec = Word2Vec(corpus,min_count =10,size=100,workers=2,window=5,iter=30,sg=0)\n"
      ],
      "execution_count": 0,
      "outputs": []
    },
    {
      "cell_type": "code",
      "metadata": {
        "id": "c74UloZQVRbr",
        "colab_type": "code",
        "colab": {}
      },
      "source": [
        "vocab_size = len(model_vec.wv.vocab)\n",
        "num_labels = 20\n",
        "batch_size = 32\n"
      ],
      "execution_count": 0,
      "outputs": []
    },
    {
      "cell_type": "code",
      "metadata": {
        "id": "z_aCskO3arCd",
        "colab_type": "code",
        "colab": {}
      },
      "source": [
        "# 20 news groups\n",
        "num_labels = 20\n",
        "vocab_size = len(model_vec.wv.vocab)\n",
        "batch_size = 32\n",
        " \n",
        "# define Tokenizer with Vocab Size\n",
        "tokenizer = Tokenizer(num_words=vocab_size)\n",
        "tokenizer.fit_on_texts(train_posts)\n",
        " \n",
        "x_train = tokenizer.texts_to_matrix(train_posts, mode='tfidf')\n",
        "x_test = tokenizer.texts_to_matrix(test_posts, mode='tfidf')"
      ],
      "execution_count": 0,
      "outputs": []
    },
    {
      "cell_type": "code",
      "metadata": {
        "id": "TBg5KbMCTmk7",
        "colab_type": "code",
        "outputId": "7360a489-535f-4cd7-eefd-7e1a363498ae",
        "colab": {
          "base_uri": "https://localhost:8080/",
          "height": 34
        }
      },
      "source": [
        "x_train.shape"
      ],
      "execution_count": 25,
      "outputs": [
        {
          "output_type": "execute_result",
          "data": {
            "text/plain": [
              "(9051, 11270)"
            ]
          },
          "metadata": {
            "tags": []
          },
          "execution_count": 25
        }
      ]
    },
    {
      "cell_type": "code",
      "metadata": {
        "id": "3hZZqOpUau_P",
        "colab_type": "code",
        "colab": {}
      },
      "source": [
        "encoder = LabelBinarizer()\n",
        "encoder.fit(train_tags)\n",
        "y_train = encoder.transform(train_tags)\n",
        "y_test = encoder.transform(test_tags)"
      ],
      "execution_count": 0,
      "outputs": []
    },
    {
      "cell_type": "code",
      "metadata": {
        "id": "he3dB0eIr5Sq",
        "colab_type": "code",
        "outputId": "7d9382ec-bb07-4e85-d7f8-849e34aa469c",
        "colab": {
          "base_uri": "https://localhost:8080/",
          "height": 34
        }
      },
      "source": [
        "y_train[0]"
      ],
      "execution_count": 27,
      "outputs": [
        {
          "output_type": "execute_result",
          "data": {
            "text/plain": [
              "array([0, 0, 0, 0, 0, 0, 0, 1, 0, 0, 0, 0, 0, 0, 0, 0, 0, 0, 0, 0])"
            ]
          },
          "metadata": {
            "tags": []
          },
          "execution_count": 27
        }
      ]
    },
    {
      "cell_type": "code",
      "metadata": {
        "id": "0zBqg7kKa0tD",
        "colab_type": "code",
        "outputId": "3527ee28-8709-4ec6-937e-638248d37ca8",
        "colab": {
          "base_uri": "https://localhost:8080/",
          "height": 1000
        }
      },
      "source": [
        "model = Sequential()\n",
        "model.add(Dense(512, input_shape=(11270,)))\n",
        "model.add(Activation('tanh'))\n",
        "model.add(Dropout(0.3))\n",
        "model.add(Dense(256))\n",
        "model.add(Activation('tanh'))\n",
        "model.add(Dropout(0.3))\n",
        "model.add(Dense(256))\n",
        "model.add(Activation('tanh'))\n",
        "model.add(Dropout(0.3))\n",
        "model.add(Dense(num_labels))\n",
        "model.add(Activation('softmax'))\n",
        "model.summary()\n",
        " \n",
        "model.compile(loss='categorical_crossentropy',\n",
        "              optimizer='adam',\n",
        "              metrics=['accuracy'])\n",
        " \n",
        "history = model.fit(x_train, y_train,\n",
        "                    batch_size=batch_size,\n",
        "                    epochs=30,\n",
        "                    verbose=1,\n",
        "                    validation_split=(1.0/8))"
      ],
      "execution_count": 28,
      "outputs": [
        {
          "output_type": "stream",
          "text": [
            "Model: \"sequential_6\"\n",
            "_________________________________________________________________\n",
            "Layer (type)                 Output Shape              Param #   \n",
            "=================================================================\n",
            "dense_16 (Dense)             (None, 512)               5770752   \n",
            "_________________________________________________________________\n",
            "activation_16 (Activation)   (None, 512)               0         \n",
            "_________________________________________________________________\n",
            "dropout_13 (Dropout)         (None, 512)               0         \n",
            "_________________________________________________________________\n",
            "dense_17 (Dense)             (None, 256)               131328    \n",
            "_________________________________________________________________\n",
            "activation_17 (Activation)   (None, 256)               0         \n",
            "_________________________________________________________________\n",
            "dropout_14 (Dropout)         (None, 256)               0         \n",
            "_________________________________________________________________\n",
            "dense_18 (Dense)             (None, 256)               65792     \n",
            "_________________________________________________________________\n",
            "activation_18 (Activation)   (None, 256)               0         \n",
            "_________________________________________________________________\n",
            "dropout_15 (Dropout)         (None, 256)               0         \n",
            "_________________________________________________________________\n",
            "dense_19 (Dense)             (None, 20)                5140      \n",
            "_________________________________________________________________\n",
            "activation_19 (Activation)   (None, 20)                0         \n",
            "=================================================================\n",
            "Total params: 5,973,012\n",
            "Trainable params: 5,973,012\n",
            "Non-trainable params: 0\n",
            "_________________________________________________________________\n",
            "WARNING:tensorflow:From /usr/local/lib/python3.6/dist-packages/tensorflow/python/ops/math_grad.py:1250: add_dispatch_support.<locals>.wrapper (from tensorflow.python.ops.array_ops) is deprecated and will be removed in a future version.\n",
            "Instructions for updating:\n",
            "Use tf.where in 2.0, which has the same broadcast rule as np.where\n",
            "Train on 7919 samples, validate on 1132 samples\n",
            "Epoch 1/30\n",
            "7919/7919 [==============================] - 8s 1ms/step - loss: 1.4110 - acc: 0.5907 - val_loss: 0.9907 - val_acc: 0.7129\n",
            "Epoch 2/30\n",
            "7919/7919 [==============================] - 4s 484us/step - loss: 0.3427 - acc: 0.8996 - val_loss: 1.1404 - val_acc: 0.6979\n",
            "Epoch 3/30\n",
            "7919/7919 [==============================] - 4s 530us/step - loss: 0.1558 - acc: 0.9554 - val_loss: 1.2811 - val_acc: 0.7102\n",
            "Epoch 4/30\n",
            "7919/7919 [==============================] - 4s 524us/step - loss: 0.1089 - acc: 0.9688 - val_loss: 1.3295 - val_acc: 0.7147\n",
            "Epoch 5/30\n",
            "7919/7919 [==============================] - 4s 530us/step - loss: 0.0998 - acc: 0.9713 - val_loss: 1.3983 - val_acc: 0.7120\n",
            "Epoch 6/30\n",
            "7919/7919 [==============================] - 4s 527us/step - loss: 0.0936 - acc: 0.9725 - val_loss: 1.4264 - val_acc: 0.7067\n",
            "Epoch 7/30\n",
            "7919/7919 [==============================] - 4s 530us/step - loss: 0.0914 - acc: 0.9727 - val_loss: 1.4439 - val_acc: 0.7173\n",
            "Epoch 8/30\n",
            "7919/7919 [==============================] - 4s 532us/step - loss: 0.0895 - acc: 0.9734 - val_loss: 1.4801 - val_acc: 0.7173\n",
            "Epoch 9/30\n",
            "7919/7919 [==============================] - 4s 525us/step - loss: 0.0901 - acc: 0.9729 - val_loss: 1.5188 - val_acc: 0.7147\n",
            "Epoch 10/30\n",
            "7919/7919 [==============================] - 4s 527us/step - loss: 0.0911 - acc: 0.9729 - val_loss: 1.5344 - val_acc: 0.7147\n",
            "Epoch 11/30\n",
            "7919/7919 [==============================] - 4s 527us/step - loss: 0.0915 - acc: 0.9727 - val_loss: 1.5267 - val_acc: 0.7120\n",
            "Epoch 12/30\n",
            "7919/7919 [==============================] - 4s 525us/step - loss: 0.0889 - acc: 0.9730 - val_loss: 1.5250 - val_acc: 0.7155\n",
            "Epoch 13/30\n",
            "7919/7919 [==============================] - 4s 527us/step - loss: 0.0897 - acc: 0.9729 - val_loss: 1.5554 - val_acc: 0.7129\n",
            "Epoch 14/30\n",
            "7919/7919 [==============================] - 4s 525us/step - loss: 0.0892 - acc: 0.9731 - val_loss: 1.6026 - val_acc: 0.6952\n",
            "Epoch 15/30\n",
            "7919/7919 [==============================] - 4s 525us/step - loss: 0.0896 - acc: 0.9731 - val_loss: 1.6224 - val_acc: 0.6979\n",
            "Epoch 16/30\n",
            "7919/7919 [==============================] - 4s 528us/step - loss: 0.1009 - acc: 0.9694 - val_loss: 1.7882 - val_acc: 0.6714\n",
            "Epoch 17/30\n",
            "7919/7919 [==============================] - 4s 521us/step - loss: 0.2773 - acc: 0.9169 - val_loss: 1.8768 - val_acc: 0.6581\n",
            "Epoch 18/30\n",
            "7919/7919 [==============================] - 4s 527us/step - loss: 0.2318 - acc: 0.9302 - val_loss: 1.8936 - val_acc: 0.6758\n",
            "Epoch 19/30\n",
            "7919/7919 [==============================] - 4s 524us/step - loss: 0.1255 - acc: 0.9614 - val_loss: 1.9402 - val_acc: 0.6811\n",
            "Epoch 20/30\n",
            "7919/7919 [==============================] - 4s 526us/step - loss: 0.1023 - acc: 0.9711 - val_loss: 1.9834 - val_acc: 0.6758\n",
            "Epoch 21/30\n",
            "7919/7919 [==============================] - 4s 528us/step - loss: 0.0947 - acc: 0.9727 - val_loss: 1.9246 - val_acc: 0.6793\n",
            "Epoch 22/30\n",
            "7919/7919 [==============================] - 4s 526us/step - loss: 0.0905 - acc: 0.9735 - val_loss: 1.9203 - val_acc: 0.6793\n",
            "Epoch 23/30\n",
            "7919/7919 [==============================] - 4s 526us/step - loss: 0.0906 - acc: 0.9736 - val_loss: 1.9104 - val_acc: 0.6749\n",
            "Epoch 24/30\n",
            "7919/7919 [==============================] - 4s 530us/step - loss: 0.0931 - acc: 0.9727 - val_loss: 1.9229 - val_acc: 0.6811\n",
            "Epoch 25/30\n",
            "7919/7919 [==============================] - 4s 535us/step - loss: 0.0896 - acc: 0.9739 - val_loss: 1.9272 - val_acc: 0.6776\n",
            "Epoch 26/30\n",
            "7919/7919 [==============================] - 4s 528us/step - loss: 0.0891 - acc: 0.9736 - val_loss: 1.9050 - val_acc: 0.6820\n",
            "Epoch 27/30\n",
            "7919/7919 [==============================] - 4s 525us/step - loss: 0.0897 - acc: 0.9737 - val_loss: 1.8850 - val_acc: 0.6917\n",
            "Epoch 28/30\n",
            "7919/7919 [==============================] - 4s 520us/step - loss: 0.0899 - acc: 0.9737 - val_loss: 1.8486 - val_acc: 0.6855\n",
            "Epoch 29/30\n",
            "7919/7919 [==============================] - 4s 524us/step - loss: 0.0892 - acc: 0.9736 - val_loss: 1.8570 - val_acc: 0.6917\n",
            "Epoch 30/30\n",
            "7919/7919 [==============================] - 4s 499us/step - loss: 0.0900 - acc: 0.9732 - val_loss: 1.8320 - val_acc: 0.6908\n"
          ],
          "name": "stdout"
        }
      ]
    },
    {
      "cell_type": "code",
      "metadata": {
        "id": "EvreXGBjWQA8",
        "colab_type": "code",
        "colab": {
          "base_uri": "https://localhost:8080/",
          "height": 808
        },
        "outputId": "5bb27d17-0522-4838-c027-de99da5761df"
      },
      "source": [
        "import matplotlib.pyplot as plt\n",
        "#Plot the Loss Curves\n",
        "plt.figure(figsize=[8,6])\n",
        "plt.plot(history.history['loss'],'r',linewidth=3.0)\n",
        "plt.plot(history.history['val_loss'],'b',linewidth=3.0)\n",
        "plt.legend(['Training loss', 'Validation Loss'],fontsize=18)\n",
        "plt.xlabel('Epochs ',fontsize=16)\n",
        "plt.ylabel('Loss',fontsize=16)\n",
        "plt.title('Loss Curves',fontsize=16)\n",
        " \n",
        "#Plot the Accuracy Curves\n",
        "plt.figure(figsize=[8,6])\n",
        "plt.plot(history.history['acc'],'r',linewidth=3.0)\n",
        "plt.plot(history.history['val_acc'],'b',linewidth=3.0)\n",
        "plt.legend(['Training Accuracy', 'Validation Accuracy'],fontsize=18)\n",
        "plt.xlabel('Epochs ',fontsize=16)\n",
        "plt.ylabel('Accuracy',fontsize=16)"
      ],
      "execution_count": 29,
      "outputs": [
        {
          "output_type": "execute_result",
          "data": {
            "text/plain": [
              "Text(0, 0.5, 'Accuracy')"
            ]
          },
          "metadata": {
            "tags": []
          },
          "execution_count": 29
        },
        {
          "output_type": "display_data",
          "data": {
            "image/png": "[encoded data removed]",
            "text/plain": [
              "<Figure size 576x432 with 1 Axes>"
            ]
          },
          "metadata": {
            "tags": []
          }
        },
        {
          "output_type": "display_data",
          "data": {
            "image/png": "[encoded data removed]",
            "text/plain": [
              "<Figure size 576x432 with 1 Axes>"
            ]
          },
          "metadata": {
            "tags": []
          }
        }
      ]
    },
    {
      "cell_type": "code",
      "metadata": {
        "id": "FbEYvDkrbNBd",
        "colab_type": "code",
        "outputId": "3af11e0e-1432-48d7-8569-61a2b369e83e",
        "colab": {
          "base_uri": "https://localhost:8080/",
          "height": 52
        }
      },
      "source": [
        "score = model.evaluate(x_test, y_test,\n",
        "                       batch_size=batch_size, verbose=1)\n",
        " \n",
        "print('Test accuracy:', score[1])"
      ],
      "execution_count": 30,
      "outputs": [
        {
          "output_type": "stream",
          "text": [
            "2263/2263 [==============================] - 0s 193us/step\n",
            "Test accuracy: 0.6791869199649981\n"
          ],
          "name": "stdout"
        }
      ]
    }
  ]
}