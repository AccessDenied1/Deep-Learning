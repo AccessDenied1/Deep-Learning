{
  "nbformat": 4,
  "nbformat_minor": 0,
  "metadata": {
    "colab": {
      "name": "Training_Doc2Vec",
      "provenance": [],
      "collapsed_sections": []
    },
    "kernelspec": {
      "name": "python3",
      "display_name": "Python 3"
    },
    "accelerator": "GPU"
  },
  "cells": [
    {
      "cell_type": "markdown",
      "metadata": {
        "id": "3hAUKaLgXHVf",
        "colab_type": "text"
      },
      "source": [
        "#This python file do the training with Doc2vec"
      ]
    },
    {
      "cell_type": "code",
      "metadata": {
        "id": "E7hYrZffO18D",
        "colab_type": "code",
        "colab": {}
      },
      "source": [
        "from sklearn.datasets import fetch_20newsgroups\n",
        "import pandas as pd\n",
        "import nltk\n",
        "from nltk.corpus import stopwords\n",
        "from nltk import word_tokenize\n",
        "from nltk import download \n",
        "from gensim.test.utils import common_texts, get_tmpfile\n",
        "from gensim.models import Word2Vec\n",
        "from sklearn.manifold import TSNE\n",
        "import numpy as np\n",
        "from keras.models import Sequential\n",
        "from keras.layers import Activation, Dense, Dropout\n",
        "from sklearn.preprocessing import LabelBinarizer\n",
        "import multiprocessing\n",
        "from nltk.tokenize import RegexpTokenizer\n",
        "import warnings"
      ],
      "execution_count": 0,
      "outputs": []
    },
    {
      "cell_type": "code",
      "metadata": {
        "id": "ruWCi-NZTKUz",
        "colab_type": "code",
        "colab": {}
      },
      "source": [
        "def getDataset():\n",
        "    Data = fetch_20newsgroups(subset='train',remove=('headers', 'footers', 'quotes'))\n",
        "    Data_df= pd.DataFrame({'data':Data.data , 'label' : Data.target }) \n",
        "    return Data_df,Data"
      ],
      "execution_count": 0,
      "outputs": []
    },
    {
      "cell_type": "code",
      "metadata": {
        "id": "1Y0oWx9kTOWR",
        "colab_type": "code",
        "outputId": "d8ca3445-63f3-4e19-abdb-dedb5af8f02f",
        "colab": {
          "base_uri": "https://localhost:8080/",
          "height": 86
        }
      },
      "source": [
        "download('punkt') #tokenizer, run once\n",
        "download('stopwords') #stopwords dictionary, run once\n",
        "stop_words = stopwords.words('english')\n",
        "tokenizer = RegexpTokenizer(r'\\w+')\n",
        "new_data=[]\n",
        "def preprocess(text):\n",
        "    for news in text:\n",
        "        token = tokenizer.tokenize(news)\n",
        "        token = [word.lower() for word in token if word not in stop_words]\n",
        "        new_data.append(token)\n",
        "    return new_data"
      ],
      "execution_count": 268,
      "outputs": [
        {
          "output_type": "stream",
          "text": [
            "[nltk_data] Downloading package punkt to /root/nltk_data...\n",
            "[nltk_data]   Package punkt is already up-to-date!\n",
            "[nltk_data] Downloading package stopwords to /root/nltk_data...\n",
            "[nltk_data]   Package stopwords is already up-to-date!\n"
          ],
          "name": "stdout"
        }
      ]
    },
    {
      "cell_type": "code",
      "metadata": {
        "id": "pRFcScmLTOYl",
        "colab_type": "code",
        "colab": {}
      },
      "source": [
        "Data,Data2 = getDataset()\n",
        "corpus = preprocess(Data['data'])"
      ],
      "execution_count": 0,
      "outputs": []
    },
    {
      "cell_type": "code",
      "metadata": {
        "id": "WYkfbvw_KrWo",
        "colab_type": "code",
        "colab": {
          "base_uri": "https://localhost:8080/",
          "height": 990
        },
        "outputId": "5dadbc65-0758-4eb6-f667-4feb6fd87d70"
      },
      "source": [
        "corpus[0]"
      ],
      "execution_count": 270,
      "outputs": [
        {
          "output_type": "execute_result",
          "data": {
            "text/plain": [
              "['i',\n",
              " 'wondering',\n",
              " 'anyone',\n",
              " 'could',\n",
              " 'enlighten',\n",
              " 'car',\n",
              " 'i',\n",
              " 'saw',\n",
              " 'day',\n",
              " 'it',\n",
              " '2',\n",
              " 'door',\n",
              " 'sports',\n",
              " 'car',\n",
              " 'looked',\n",
              " 'late',\n",
              " '60s',\n",
              " 'early',\n",
              " '70s',\n",
              " 'it',\n",
              " 'called',\n",
              " 'bricklin',\n",
              " 'the',\n",
              " 'doors',\n",
              " 'really',\n",
              " 'small',\n",
              " 'in',\n",
              " 'addition',\n",
              " 'front',\n",
              " 'bumper',\n",
              " 'separate',\n",
              " 'rest',\n",
              " 'body',\n",
              " 'this',\n",
              " 'i',\n",
              " 'know',\n",
              " 'if',\n",
              " 'anyone',\n",
              " 'tellme',\n",
              " 'model',\n",
              " 'name',\n",
              " 'engine',\n",
              " 'specs',\n",
              " 'years',\n",
              " 'production',\n",
              " 'car',\n",
              " 'made',\n",
              " 'history',\n",
              " 'whatever',\n",
              " 'info',\n",
              " 'funky',\n",
              " 'looking',\n",
              " 'car',\n",
              " 'please',\n",
              " 'e',\n",
              " 'mail']"
            ]
          },
          "metadata": {
            "tags": []
          },
          "execution_count": 270
        }
      ]
    },
    {
      "cell_type": "code",
      "metadata": {
        "id": "t9QnHDn0XHeU",
        "colab_type": "code",
        "colab": {}
      },
      "source": [
        "cores = multiprocessing.cpu_count()\n",
        "model_vec = Word2Vec(corpus,min_count =10,size=100,workers=cores,window=5,iter=30,sg=0)"
      ],
      "execution_count": 0,
      "outputs": []
    },
    {
      "cell_type": "code",
      "metadata": {
        "id": "MK62tAGvYr7I",
        "colab_type": "code",
        "outputId": "7e1b6802-697a-4217-8649-7929c185bb63",
        "colab": {
          "base_uri": "https://localhost:8080/",
          "height": 34
        }
      },
      "source": [
        "print(model_vec)"
      ],
      "execution_count": 272,
      "outputs": [
        {
          "output_type": "stream",
          "text": [
            "Word2Vec(vocab=14040, size=100, alpha=0.025)\n"
          ],
          "name": "stdout"
        }
      ]
    },
    {
      "cell_type": "markdown",
      "metadata": {
        "id": "7l4b1JhSaEac",
        "colab_type": "text"
      },
      "source": [
        "***Find the most similar words in the corpus to the word “car” along with their similarities.***\n"
      ]
    },
    {
      "cell_type": "code",
      "metadata": {
        "id": "G85Aw8hsnfg4",
        "colab_type": "code",
        "outputId": "a6a1ee31-967b-46c0-b810-778cf35f4d3c",
        "colab": {
          "base_uri": "https://localhost:8080/",
          "height": 191
        }
      },
      "source": [
        "warnings.filterwarnings(\"ignore\",category=DeprecationWarning)\n",
        "warnings.filterwarnings(\"ignore\",category=FutureWarning)\n",
        "warnings.filterwarnings(\"ignore\",category=RuntimeWarning)\n",
        "RuntimeWarning\n",
        "model_vec.most_similar(\"car\")"
      ],
      "execution_count": 284,
      "outputs": [
        {
          "output_type": "execute_result",
          "data": {
            "text/plain": [
              "[('cars', 0.619587779045105),\n",
              " ('bike', 0.5843697786331177),\n",
              " ('bikes', 0.5833765268325806),\n",
              " ('toyota', 0.568603515625),\n",
              " ('mechanic', 0.5651537775993347),\n",
              " ('tires', 0.5618065595626831),\n",
              " ('owner', 0.556006908416748),\n",
              " ('engine', 0.5437662601470947),\n",
              " ('porsche', 0.5421695709228516),\n",
              " ('volvo', 0.5365939140319824)]"
            ]
          },
          "metadata": {
            "tags": []
          },
          "execution_count": 284
        }
      ]
    },
    {
      "cell_type": "markdown",
      "metadata": {
        "id": "3sHLICBSHTpB",
        "colab_type": "text"
      },
      "source": [
        "***Find the top 5 words similar to the \n",
        "following operations:***\n",
        "\n",
        " girl + father - boy\n",
        " \n",
        " sports - bat + ball\n"
      ]
    },
    {
      "cell_type": "code",
      "metadata": {
        "id": "QraHFM1CaVE-",
        "colab_type": "code",
        "outputId": "70e3aae5-7ef1-4d8a-e065-4629b107f807",
        "colab": {
          "base_uri": "https://localhost:8080/",
          "height": 104
        }
      },
      "source": [
        "model_vec.most_similar_cosmul(positive=['girl','father'],negative=['boy'],topn=5)"
      ],
      "execution_count": 256,
      "outputs": [
        {
          "output_type": "execute_result",
          "data": {
            "text/plain": [
              "[('sons', 1.039534330368042),\n",
              " ('son', 0.9789587259292603),\n",
              " ('egypt', 0.9723554253578186),\n",
              " ('buried', 0.9454286694526672),\n",
              " ('brothers', 0.9423195123672485)]"
            ]
          },
          "metadata": {
            "tags": []
          },
          "execution_count": 256
        }
      ]
    },
    {
      "cell_type": "code",
      "metadata": {
        "id": "26uTmFJdbLcy",
        "colab_type": "code",
        "outputId": "fc6b4dbe-84e9-4e82-e772-c4c61a75aaac",
        "colab": {
          "base_uri": "https://localhost:8080/",
          "height": 104
        }
      },
      "source": [
        "model_vec.most_similar_cosmul(positive=['sports','ball'],negative=['bat'],topn=5)"
      ],
      "execution_count": 257,
      "outputs": [
        {
          "output_type": "execute_result",
          "data": {
            "text/plain": [
              "[('champion', 1.1305850744247437),\n",
              " ('television', 0.9805469512939453),\n",
              " ('correspondent', 0.951806902885437),\n",
              " ('district', 0.94666987657547),\n",
              " ('newspaper', 0.9447471499443054)]"
            ]
          },
          "metadata": {
            "tags": []
          },
          "execution_count": 257
        }
      ]
    },
    {
      "cell_type": "markdown",
      "metadata": {
        "id": "0vHQE1ttbjpU",
        "colab_type": "text"
      },
      "source": [
        "***Create a TSNE plot for the top 20 words similar to each of the words [‘baseball’, ‘software’, ‘police’, ‘government’, ‘circuit’, ‘car’]***\n"
      ]
    },
    {
      "cell_type": "code",
      "metadata": {
        "id": "4hMb2jJDO01p",
        "colab_type": "code",
        "colab": {}
      },
      "source": [
        "keys=['baseball','software','police','government','circuit','car']\n",
        "\n",
        "embedding_clusters=[]\n",
        "word_clusters=[]\n",
        "\n",
        "for word in keys:\n",
        "  embedding=[]\n",
        "  words=[]\n",
        "  \n",
        "  for similar_word,_ in model_vec.most_similar(word,topn=20):\n",
        "    words.append(similar_word)\n",
        "    embedding.append(model_vec[similar_word])\n",
        "  embedding_clusters.append(embedding)\n",
        "  word_clusters.append(words)"
      ],
      "execution_count": 0,
      "outputs": []
    },
    {
      "cell_type": "code",
      "metadata": {
        "id": "bN6-tXE5e1Lg",
        "colab_type": "code",
        "colab": {}
      },
      "source": [
        "from sklearn.manifold import TSNE\n",
        "import numpy as np\n",
        "\n",
        "embedding_clusters = np.array(embedding_clusters)\n",
        "n, m, k = embedding_clusters.shape\n",
        "tsne_model_en_2d = TSNE(perplexity=5, n_components=2, init='pca', n_iter=50000, random_state=42)\n",
        "embeddings_en_2d = np.array(tsne_model_en_2d.fit_transform(embedding_clusters.reshape(n * m, k))).reshape(n, m, 2)"
      ],
      "execution_count": 0,
      "outputs": []
    },
    {
      "cell_type": "code",
      "metadata": {
        "id": "b0evwj53co5U",
        "colab_type": "code",
        "outputId": "69301abe-6938-4af6-8f23-6f6a320b6fb9",
        "colab": {
          "base_uri": "https://localhost:8080/",
          "height": 677
        }
      },
      "source": [
        "import matplotlib.pyplot as plt\n",
        "import matplotlib.cm as cm\n",
        "% matplotlib inline\n",
        "def tsne_plot_similar_words(title, labels, embedding_clusters, word_clusters, a, filename=None):\n",
        "    plt.figure(figsize=(16, 9))\n",
        "    colors = cm.rainbow(np.linspace(0, 1, len(labels)))\n",
        "    for label, embeddings, words, color in zip(labels, embedding_clusters, word_clusters, colors):\n",
        "        x = embeddings[:, 0]\n",
        "        y = embeddings[:, 1]\n",
        "        plt.scatter(x, y, c=color, alpha=a, label=label)\n",
        "        for i, word in enumerate(words):\n",
        "            plt.annotate(word, alpha=0.5, xy=(x[i], y[i]), xytext=(5, 2),\n",
        "                         textcoords='offset points', ha='right', va='bottom', size=8)\n",
        "    plt.legend(loc=4)\n",
        "    plt.title(title)\n",
        "    plt.grid(True)\n",
        "    if filename:\n",
        "        plt.savefig(filename, format='png', dpi=150, bbox_inches='tight')\n",
        "    plt.show()\n",
        "tsne_plot_similar_words('Similar words ', keys, embeddings_en_2d, word_clusters, 0.7,\n",
        "                        'similar_words.png')"
      ],
      "execution_count": 260,
      "outputs": [
        {
          "output_type": "stream",
          "text": [
            "'c' argument looks like a single numeric RGB or RGBA sequence, which should be avoided as value-mapping will have precedence in case its length matches with 'x' & 'y'.  Please use a 2-D array with a single row if you really want to specify the same RGB or RGBA value for all points.\n",
            "'c' argument looks like a single numeric RGB or RGBA sequence, which should be avoided as value-mapping will have precedence in case its length matches with 'x' & 'y'.  Please use a 2-D array with a single row if you really want to specify the same RGB or RGBA value for all points.\n",
            "'c' argument looks like a single numeric RGB or RGBA sequence, which should be avoided as value-mapping will have precedence in case its length matches with 'x' & 'y'.  Please use a 2-D array with a single row if you really want to specify the same RGB or RGBA value for all points.\n",
            "'c' argument looks like a single numeric RGB or RGBA sequence, which should be avoided as value-mapping will have precedence in case its length matches with 'x' & 'y'.  Please use a 2-D array with a single row if you really want to specify the same RGB or RGBA value for all points.\n",
            "'c' argument looks like a single numeric RGB or RGBA sequence, which should be avoided as value-mapping will have precedence in case its length matches with 'x' & 'y'.  Please use a 2-D array with a single row if you really want to specify the same RGB or RGBA value for all points.\n",
            "'c' argument looks like a single numeric RGB or RGBA sequence, which should be avoided as value-mapping will have precedence in case its length matches with 'x' & 'y'.  Please use a 2-D array with a single row if you really want to specify the same RGB or RGBA value for all points.\n"
          ],
          "name": "stderr"
        },
        {
          "output_type": "display_data",
          "data": {
            "image/png": "[encoded data removed]",
            "text/plain": [
              "<Figure size 1152x648 with 1 Axes>"
            ]
          },
          "metadata": {
            "tags": []
          }
        }
      ]
    },
    {
      "cell_type": "markdown",
      "metadata": {
        "id": "rcwwmf_IkaxW",
        "colab_type": "text"
      },
      "source": [
        " **Methodology to convert Word2vec to Doc2vec:**\n",
        "    take the weighted average of the vectors for all words in the document (weighted by the TF-IDF score of the word) or concatenating the weighted word vectors for the words in the vocabulary"
      ]
    },
    {
      "cell_type": "code",
      "metadata": {
        "id": "0o1bPeVvqy0X",
        "colab_type": "code",
        "outputId": "c84b439d-78b1-4b55-af21-2cf47b0a81e8",
        "colab": {
          "base_uri": "https://localhost:8080/",
          "height": 34
        }
      },
      "source": [
        "model_vec.train(corpus,epochs=150,total_examples = len(corpus))"
      ],
      "execution_count": 0,
      "outputs": [
        {
          "output_type": "execute_result",
          "data": {
            "text/plain": [
              "(138568992, 157827000)"
            ]
          },
          "metadata": {
            "tags": []
          },
          "execution_count": 158
        }
      ]
    },
    {
      "cell_type": "code",
      "metadata": {
        "id": "MK7B4nuTFQkg",
        "colab_type": "code",
        "colab": {}
      },
      "source": [
        "words = list(model_vec.wv.vocab)"
      ],
      "execution_count": 0,
      "outputs": []
    },
    {
      "cell_type": "code",
      "metadata": {
        "id": "JdPoF2S8MOeI",
        "colab_type": "code",
        "colab": {}
      },
      "source": [
        "tot_size = Data2.target"
      ],
      "execution_count": 0,
      "outputs": []
    },
    {
      "cell_type": "code",
      "metadata": {
        "id": "TkF03ZXTMZG-",
        "colab_type": "code",
        "colab": {
          "base_uri": "https://localhost:8080/",
          "height": 34
        },
        "outputId": "0fd82c8d-197e-41a3-9411-75bb12023e06"
      },
      "source": [
        "len(tot_size)"
      ],
      "execution_count": 275,
      "outputs": [
        {
          "output_type": "execute_result",
          "data": {
            "text/plain": [
              "11314"
            ]
          },
          "metadata": {
            "tags": []
          },
          "execution_count": 275
        }
      ]
    },
    {
      "cell_type": "code",
      "metadata": {
        "id": "8CEa_mZeNQ7z",
        "colab_type": "code",
        "colab": {}
      },
      "source": [
        "vec = model_vec.wv"
      ],
      "execution_count": 0,
      "outputs": []
    },
    {
      "cell_type": "code",
      "metadata": {
        "id": "0OFqCs9_NWfX",
        "colab_type": "code",
        "colab": {
          "base_uri": "https://localhost:8080/",
          "height": 382
        },
        "outputId": "a0338173-37da-4bfd-ec4d-6c6aa39860dd"
      },
      "source": [
        "vec['car']"
      ],
      "execution_count": 280,
      "outputs": [
        {
          "output_type": "execute_result",
          "data": {
            "text/plain": [
              "array([-0.02563603,  1.1957545 ,  1.25409   ,  2.0509045 ,  1.8533068 ,\n",
              "        0.27354223,  0.16592659, -3.6133206 , -1.3800778 ,  2.0576031 ,\n",
              "       -0.54031676,  3.4041965 ,  0.9550617 ,  1.3295252 ,  1.9246486 ,\n",
              "       -2.1213014 , -1.1554374 ,  1.6358551 ,  0.28476816,  0.4263713 ,\n",
              "       -0.5593435 , -1.85032   , -0.14196637,  2.3076286 ,  0.21115386,\n",
              "       -2.189755  ,  1.6211672 ,  0.28620642,  0.07412004,  3.7048979 ,\n",
              "       -1.897215  , -2.1563942 , -2.9560702 , -0.23067635,  0.2828428 ,\n",
              "       -1.6067996 ,  2.533739  , -0.23709652,  1.7252425 ,  1.325909  ,\n",
              "       -1.5152999 ,  1.0386374 , -0.35576114,  1.4399438 ,  2.77128   ,\n",
              "        0.66443896,  0.17600301, -1.2468033 , -1.0364954 ,  0.1752041 ,\n",
              "       -0.09879603,  1.6461967 , -3.4178417 ,  2.1939805 , -0.84220594,\n",
              "        2.9518178 ,  0.19554333, -1.2140749 , -0.72799873, -0.38353512,\n",
              "        0.69974697, -2.456244  , -0.07827902,  0.9308885 ,  1.4593259 ,\n",
              "       -4.0311246 ,  0.32206523,  2.7038124 , -1.4150367 , -0.13032033,\n",
              "        1.7876071 ,  0.30774263, -0.6369454 , -0.11907891, -1.2761021 ,\n",
              "        0.9158437 ,  1.2906362 , -1.4678124 , -1.799704  ,  0.44751158,\n",
              "        0.48583558,  1.5228686 ,  0.38991657, -2.3757944 , -0.69513065,\n",
              "       -0.78003144, -1.058007  , -1.5738055 , -1.1323699 ,  1.3505244 ,\n",
              "        2.8039281 ,  2.1661797 , -1.8330562 ,  1.1223627 , -0.55228215,\n",
              "        0.08256981,  1.6269222 ,  0.26076338,  0.91781396, -2.237396  ],\n",
              "      dtype=float32)"
            ]
          },
          "metadata": {
            "tags": []
          },
          "execution_count": 280
        }
      ]
    },
    {
      "cell_type": "code",
      "metadata": {
        "id": "Jjdm3CuKNjGd",
        "colab_type": "code",
        "colab": {
          "base_uri": "https://localhost:8080/",
          "height": 382
        },
        "outputId": "84c5f5f4-a5ba-40fc-bfa3-5171c31fc787"
      },
      "source": [
        "model_vec['car']"
      ],
      "execution_count": 281,
      "outputs": [
        {
          "output_type": "execute_result",
          "data": {
            "text/plain": [
              "array([-0.02563603,  1.1957545 ,  1.25409   ,  2.0509045 ,  1.8533068 ,\n",
              "        0.27354223,  0.16592659, -3.6133206 , -1.3800778 ,  2.0576031 ,\n",
              "       -0.54031676,  3.4041965 ,  0.9550617 ,  1.3295252 ,  1.9246486 ,\n",
              "       -2.1213014 , -1.1554374 ,  1.6358551 ,  0.28476816,  0.4263713 ,\n",
              "       -0.5593435 , -1.85032   , -0.14196637,  2.3076286 ,  0.21115386,\n",
              "       -2.189755  ,  1.6211672 ,  0.28620642,  0.07412004,  3.7048979 ,\n",
              "       -1.897215  , -2.1563942 , -2.9560702 , -0.23067635,  0.2828428 ,\n",
              "       -1.6067996 ,  2.533739  , -0.23709652,  1.7252425 ,  1.325909  ,\n",
              "       -1.5152999 ,  1.0386374 , -0.35576114,  1.4399438 ,  2.77128   ,\n",
              "        0.66443896,  0.17600301, -1.2468033 , -1.0364954 ,  0.1752041 ,\n",
              "       -0.09879603,  1.6461967 , -3.4178417 ,  2.1939805 , -0.84220594,\n",
              "        2.9518178 ,  0.19554333, -1.2140749 , -0.72799873, -0.38353512,\n",
              "        0.69974697, -2.456244  , -0.07827902,  0.9308885 ,  1.4593259 ,\n",
              "       -4.0311246 ,  0.32206523,  2.7038124 , -1.4150367 , -0.13032033,\n",
              "        1.7876071 ,  0.30774263, -0.6369454 , -0.11907891, -1.2761021 ,\n",
              "        0.9158437 ,  1.2906362 , -1.4678124 , -1.799704  ,  0.44751158,\n",
              "        0.48583558,  1.5228686 ,  0.38991657, -2.3757944 , -0.69513065,\n",
              "       -0.78003144, -1.058007  , -1.5738055 , -1.1323699 ,  1.3505244 ,\n",
              "        2.8039281 ,  2.1661797 , -1.8330562 ,  1.1223627 , -0.55228215,\n",
              "        0.08256981,  1.6269222 ,  0.26076338,  0.91781396, -2.237396  ],\n",
              "      dtype=float32)"
            ]
          },
          "metadata": {
            "tags": []
          },
          "execution_count": 281
        }
      ]
    },
    {
      "cell_type": "code",
      "metadata": {
        "id": "LdffWtwHdSVD",
        "colab_type": "code",
        "colab": {}
      },
      "source": [
        "import numpy as np\n",
        "docu_vector = np.zeros((len(tot_size),100))\n",
        "for i in range(len(tot_size)):\n",
        "    vector = []\n",
        "    doc_no = tot_size[i]\n",
        "    for words in corpus[doc_no]:\n",
        "            if words in model_vec.wv.vocab:\n",
        "                vector.append(model_vec[words])\n",
        "    vec_arr = np.asarray(vector)\n",
        "    docu_vector[i] = np.mean(vec_arr , axis = 0)"
      ],
      "execution_count": 0,
      "outputs": []
    },
    {
      "cell_type": "code",
      "metadata": {
        "id": "704VuutfT_Qx",
        "colab_type": "code",
        "colab": {
          "base_uri": "https://localhost:8080/",
          "height": 34
        },
        "outputId": "88eb0ada-d47a-4fab-b30f-4de5ccff59d9"
      },
      "source": [
        "train_size = int(len(docu_vector) * .8)\n",
        "test_size = len(docu_vector) - train_size\n",
        "x_train = np.zeros((train_size , 100))\n",
        "x_test = np.zeros((test_size , 100))\n",
        "for i in range(train_size):\n",
        "    x_train[i] = docu_vector[i]\n",
        "print(i)\n",
        "j=0\n",
        "while(j<test_size):\n",
        "    #print(i+j)\n",
        "    x_test[j] = docu_vector[i+j]\n",
        "    j = j+1"
      ],
      "execution_count": 312,
      "outputs": [
        {
          "output_type": "stream",
          "text": [
            "9050\n"
          ],
          "name": "stdout"
        }
      ]
    },
    {
      "cell_type": "code",
      "metadata": {
        "id": "4Ye0wztJCiSp",
        "colab_type": "code",
        "colab": {
          "base_uri": "https://localhost:8080/",
          "height": 243
        },
        "outputId": "525af1ed-ba75-4246-b651-2885a8d31078"
      },
      "source": [
        "x_train"
      ],
      "execution_count": 313,
      "outputs": [
        {
          "output_type": "execute_result",
          "data": {
            "text/plain": [
              "array([[-0.32231963,  0.19040506, -0.204826  , ..., -0.31891137,\n",
              "         0.03896859, -0.42408022],\n",
              "       [ 0.26220283, -0.52813876, -0.03361913, ...,  0.09364378,\n",
              "        -0.04967861, -0.50261664],\n",
              "       [ 0.26220283, -0.52813876, -0.03361913, ...,  0.09364378,\n",
              "        -0.04967861, -0.50261664],\n",
              "       ...,\n",
              "       [        nan,         nan,         nan, ...,         nan,\n",
              "                nan,         nan],\n",
              "       [-0.08913459,  0.05410718, -0.27121904, ..., -0.17518879,\n",
              "         0.04699292, -0.35673448],\n",
              "       [        nan,         nan,         nan, ...,         nan,\n",
              "                nan,         nan]])"
            ]
          },
          "metadata": {
            "tags": []
          },
          "execution_count": 313
        }
      ]
    },
    {
      "cell_type": "code",
      "metadata": {
        "id": "8mSj85zQRB56",
        "colab_type": "code",
        "colab": {}
      },
      "source": [
        "x_tr = np.nan_to_num(x_train)"
      ],
      "execution_count": 0,
      "outputs": []
    },
    {
      "cell_type": "code",
      "metadata": {
        "id": "_AGMkb-mRGgF",
        "colab_type": "code",
        "colab": {
          "base_uri": "https://localhost:8080/",
          "height": 243
        },
        "outputId": "964ac0a6-b496-4620-c31f-49e3ef6782d3"
      },
      "source": [
        "x_tr"
      ],
      "execution_count": 326,
      "outputs": [
        {
          "output_type": "execute_result",
          "data": {
            "text/plain": [
              "array([[-0.32231963,  0.19040506, -0.204826  , ..., -0.31891137,\n",
              "         0.03896859, -0.42408022],\n",
              "       [ 0.26220283, -0.52813876, -0.03361913, ...,  0.09364378,\n",
              "        -0.04967861, -0.50261664],\n",
              "       [ 0.26220283, -0.52813876, -0.03361913, ...,  0.09364378,\n",
              "        -0.04967861, -0.50261664],\n",
              "       ...,\n",
              "       [ 0.        ,  0.        ,  0.        , ...,  0.        ,\n",
              "         0.        ,  0.        ],\n",
              "       [-0.08913459,  0.05410718, -0.27121904, ..., -0.17518879,\n",
              "         0.04699292, -0.35673448],\n",
              "       [ 0.        ,  0.        ,  0.        , ...,  0.        ,\n",
              "         0.        ,  0.        ]])"
            ]
          },
          "metadata": {
            "tags": []
          },
          "execution_count": 326
        }
      ]
    },
    {
      "cell_type": "code",
      "metadata": {
        "id": "ZogFd1x5-mop",
        "colab_type": "code",
        "colab": {}
      },
      "source": [
        "y_train = np.zeros((11334))\n"
      ],
      "execution_count": 0,
      "outputs": []
    },
    {
      "cell_type": "code",
      "metadata": {
        "id": "ZnwKvwZAEhOv",
        "colab_type": "code",
        "colab": {}
      },
      "source": [
        "y_train = Data2.target[:train_size]"
      ],
      "execution_count": 0,
      "outputs": []
    },
    {
      "cell_type": "code",
      "metadata": {
        "id": "syxlNVB__dpU",
        "colab_type": "code",
        "outputId": "ffa51af8-6449-4286-fc7c-0561253fd2e4",
        "colab": {
          "base_uri": "https://localhost:8080/",
          "height": 34
        }
      },
      "source": [
        "y_train"
      ],
      "execution_count": 0,
      "outputs": [
        {
          "output_type": "execute_result",
          "data": {
            "text/plain": [
              "array([ 7.,  4.,  4., ..., 11., 19.,  4.])"
            ]
          },
          "metadata": {
            "tags": []
          },
          "execution_count": 216
        }
      ]
    },
    {
      "cell_type": "code",
      "metadata": {
        "id": "3zNCKNs6RVJB",
        "colab_type": "code",
        "colab": {
          "base_uri": "https://localhost:8080/",
          "height": 34
        },
        "outputId": "e6da6527-de2c-4640-d5a3-96ff8ee292bf"
      },
      "source": [
        "y_train.shape"
      ],
      "execution_count": 320,
      "outputs": [
        {
          "output_type": "execute_result",
          "data": {
            "text/plain": [
              "(9051,)"
            ]
          },
          "metadata": {
            "tags": []
          },
          "execution_count": 320
        }
      ]
    },
    {
      "cell_type": "code",
      "metadata": {
        "id": "3yL2tqp9av6c",
        "colab_type": "code",
        "outputId": "023fad09-3c74-4247-ad1b-ebfedcfc747b",
        "colab": {
          "base_uri": "https://localhost:8080/",
          "height": 34
        }
      },
      "source": [
        "x_tr.shape"
      ],
      "execution_count": 317,
      "outputs": [
        {
          "output_type": "execute_result",
          "data": {
            "text/plain": [
              "(9051, 100)"
            ]
          },
          "metadata": {
            "tags": []
          },
          "execution_count": 317
        }
      ]
    },
    {
      "cell_type": "code",
      "metadata": {
        "id": "8axh1RnGZeeC",
        "colab_type": "code",
        "colab": {}
      },
      "source": [
        "encoder = LabelBinarizer()\n",
        "encoder.fit(train_tags)\n",
        "y_train = encoder.transform(train_tags)\n",
        "y_test = encoder.transform(test_tags)"
      ],
      "execution_count": 0,
      "outputs": []
    },
    {
      "cell_type": "code",
      "metadata": {
        "id": "B3fwxAQQU-kE",
        "colab_type": "code",
        "outputId": "25bada96-3b46-4598-828e-173641344b2e",
        "colab": {
          "base_uri": "https://localhost:8080/",
          "height": 364
        }
      },
      "source": [
        "model = Sequential()\n",
        "model.add(Dense(512, input_shape=(100,)))\n",
        "model.add(Activation('tanh'))\n",
        "#model.add(Dropout(0.3))\n",
        "model.add(Dense(256))\n",
        "model.add(Activation('tanh'))\n",
        "#model.add(Dropout(0.3))\n",
        "model.add(Dense(20))\n",
        "model.add(Activation('softmax'))\n",
        "model.summary()\n",
        " \n",
        "model.compile(loss='sparse_categorical_crossentropy',\n",
        "              optimizer='adam',\n",
        "              metrics=['accuracy'])\n",
        " \n"
      ],
      "execution_count": 321,
      "outputs": [
        {
          "output_type": "stream",
          "text": [
            "Model: \"sequential_18\"\n",
            "_________________________________________________________________\n",
            "Layer (type)                 Output Shape              Param #   \n",
            "=================================================================\n",
            "dense_63 (Dense)             (None, 512)               51712     \n",
            "_________________________________________________________________\n",
            "activation_63 (Activation)   (None, 512)               0         \n",
            "_________________________________________________________________\n",
            "dense_64 (Dense)             (None, 256)               131328    \n",
            "_________________________________________________________________\n",
            "activation_64 (Activation)   (None, 256)               0         \n",
            "_________________________________________________________________\n",
            "dense_65 (Dense)             (None, 20)                5140      \n",
            "_________________________________________________________________\n",
            "activation_65 (Activation)   (None, 20)                0         \n",
            "=================================================================\n",
            "Total params: 188,180\n",
            "Trainable params: 188,180\n",
            "Non-trainable params: 0\n",
            "_________________________________________________________________\n"
          ],
          "name": "stdout"
        }
      ]
    },
    {
      "cell_type": "code",
      "metadata": {
        "id": "iooDF9erVvdi",
        "colab_type": "code",
        "outputId": "aed45b52-a318-467f-ae1e-ee5b76aea3ac",
        "colab": {
          "base_uri": "https://localhost:8080/",
          "height": 382
        }
      },
      "source": [
        "history = model.fit(x_tr, y_train,\n",
        "                    batch_size=10,\n",
        "                    epochs=10,\n",
        "                    verbose=1,\n",
        "                    validation_split=(1.0/8))"
      ],
      "execution_count": 333,
      "outputs": [
        {
          "output_type": "stream",
          "text": [
            "Train on 7919 samples, validate on 1132 samples\n",
            "Epoch 1/10\n",
            "7919/7919 [==============================] - 3s 334us/step - loss: 1.9160e-06 - acc: 1.0000 - val_loss: 1.9171e-06 - val_acc: 1.0000\n",
            "Epoch 2/10\n",
            "7919/7919 [==============================] - 3s 327us/step - loss: 1.9160e-06 - acc: 1.0000 - val_loss: 1.9171e-06 - val_acc: 1.0000\n",
            "Epoch 3/10\n",
            "7919/7919 [==============================] - 3s 332us/step - loss: 1.9160e-06 - acc: 1.0000 - val_loss: 1.9171e-06 - val_acc: 1.0000\n",
            "Epoch 4/10\n",
            "7919/7919 [==============================] - 3s 330us/step - loss: 1.9160e-06 - acc: 1.0000 - val_loss: 1.9171e-06 - val_acc: 1.0000\n",
            "Epoch 5/10\n",
            "7919/7919 [==============================] - 3s 330us/step - loss: 1.9160e-06 - acc: 1.0000 - val_loss: 1.9171e-06 - val_acc: 1.0000\n",
            "Epoch 6/10\n",
            "7919/7919 [==============================] - 3s 344us/step - loss: 1.9160e-06 - acc: 1.0000 - val_loss: 1.9171e-06 - val_acc: 1.0000\n",
            "Epoch 7/10\n",
            "7919/7919 [==============================] - 3s 345us/step - loss: 1.9160e-06 - acc: 1.0000 - val_loss: 1.9171e-06 - val_acc: 1.0000\n",
            "Epoch 8/10\n",
            "7919/7919 [==============================] - 3s 343us/step - loss: 1.9160e-06 - acc: 1.0000 - val_loss: 1.9171e-06 - val_acc: 1.0000\n",
            "Epoch 9/10\n",
            "7919/7919 [==============================] - 3s 322us/step - loss: 1.9160e-06 - acc: 1.0000 - val_loss: 1.9171e-06 - val_acc: 1.0000\n",
            "Epoch 10/10\n",
            "7919/7919 [==============================] - 3s 322us/step - loss: 1.9160e-06 - acc: 1.0000 - val_loss: 1.9171e-06 - val_acc: 1.0000\n"
          ],
          "name": "stdout"
        }
      ]
    }
  ]
}